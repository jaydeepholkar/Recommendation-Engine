{
 "cells": [
  {
   "cell_type": "markdown",
   "id": "d05db904",
   "metadata": {},
   "source": [
    "### Import required libraries"
   ]
  },
  {
   "cell_type": "code",
   "execution_count": 1,
   "id": "95287062",
   "metadata": {},
   "outputs": [],
   "source": [
    "import warnings\n",
    "warnings.filterwarnings('ignore')"
   ]
  },
  {
   "cell_type": "code",
   "execution_count": 2,
   "id": "9b778135",
   "metadata": {},
   "outputs": [],
   "source": [
    "import pandas as pd\n",
    "import seaborn as sns"
   ]
  },
  {
   "cell_type": "code",
   "execution_count": 3,
   "id": "00443f11",
   "metadata": {},
   "outputs": [],
   "source": [
    "#Read the dataset\n",
    "Game=pd.read_csv(r\"D:/Data science/DataSets/game.csv\")"
   ]
  },
  {
   "cell_type": "code",
   "execution_count": 4,
   "id": "016c61b4",
   "metadata": {},
   "outputs": [
    {
     "data": {
      "text/html": [
       "<div>\n",
       "<style scoped>\n",
       "    .dataframe tbody tr th:only-of-type {\n",
       "        vertical-align: middle;\n",
       "    }\n",
       "\n",
       "    .dataframe tbody tr th {\n",
       "        vertical-align: top;\n",
       "    }\n",
       "\n",
       "    .dataframe thead th {\n",
       "        text-align: right;\n",
       "    }\n",
       "</style>\n",
       "<table border=\"1\" class=\"dataframe\">\n",
       "  <thead>\n",
       "    <tr style=\"text-align: right;\">\n",
       "      <th></th>\n",
       "      <th>userId</th>\n",
       "      <th>game</th>\n",
       "      <th>rating</th>\n",
       "    </tr>\n",
       "  </thead>\n",
       "  <tbody>\n",
       "    <tr>\n",
       "      <th>0</th>\n",
       "      <td>3</td>\n",
       "      <td>The Legend of Zelda: Ocarina of Time</td>\n",
       "      <td>4.0</td>\n",
       "    </tr>\n",
       "    <tr>\n",
       "      <th>1</th>\n",
       "      <td>6</td>\n",
       "      <td>Tony Hawk's Pro Skater 2</td>\n",
       "      <td>5.0</td>\n",
       "    </tr>\n",
       "    <tr>\n",
       "      <th>2</th>\n",
       "      <td>8</td>\n",
       "      <td>Grand Theft Auto IV</td>\n",
       "      <td>4.0</td>\n",
       "    </tr>\n",
       "    <tr>\n",
       "      <th>3</th>\n",
       "      <td>10</td>\n",
       "      <td>SoulCalibur</td>\n",
       "      <td>4.0</td>\n",
       "    </tr>\n",
       "    <tr>\n",
       "      <th>4</th>\n",
       "      <td>11</td>\n",
       "      <td>Grand Theft Auto IV</td>\n",
       "      <td>4.5</td>\n",
       "    </tr>\n",
       "    <tr>\n",
       "      <th>...</th>\n",
       "      <td>...</td>\n",
       "      <td>...</td>\n",
       "      <td>...</td>\n",
       "    </tr>\n",
       "    <tr>\n",
       "      <th>4995</th>\n",
       "      <td>4529</td>\n",
       "      <td>Donut County</td>\n",
       "      <td>2.5</td>\n",
       "    </tr>\n",
       "    <tr>\n",
       "      <th>4996</th>\n",
       "      <td>4533</td>\n",
       "      <td>MotorStorm: Apocalypse</td>\n",
       "      <td>3.0</td>\n",
       "    </tr>\n",
       "    <tr>\n",
       "      <th>4997</th>\n",
       "      <td>4544</td>\n",
       "      <td>The Last Guy</td>\n",
       "      <td>3.0</td>\n",
       "    </tr>\n",
       "    <tr>\n",
       "      <th>4998</th>\n",
       "      <td>4548</td>\n",
       "      <td>Valiant Hearts: The Great War</td>\n",
       "      <td>4.0</td>\n",
       "    </tr>\n",
       "    <tr>\n",
       "      <th>4999</th>\n",
       "      <td>4558</td>\n",
       "      <td>Mothergunship</td>\n",
       "      <td>2.5</td>\n",
       "    </tr>\n",
       "  </tbody>\n",
       "</table>\n",
       "<p>5000 rows × 3 columns</p>\n",
       "</div>"
      ],
      "text/plain": [
       "      userId                                  game  rating\n",
       "0          3  The Legend of Zelda: Ocarina of Time     4.0\n",
       "1          6              Tony Hawk's Pro Skater 2     5.0\n",
       "2          8                   Grand Theft Auto IV     4.0\n",
       "3         10                           SoulCalibur     4.0\n",
       "4         11                   Grand Theft Auto IV     4.5\n",
       "...      ...                                   ...     ...\n",
       "4995    4529                          Donut County     2.5\n",
       "4996    4533                MotorStorm: Apocalypse     3.0\n",
       "4997    4544                          The Last Guy     3.0\n",
       "4998    4548         Valiant Hearts: The Great War     4.0\n",
       "4999    4558                         Mothergunship     2.5\n",
       "\n",
       "[5000 rows x 3 columns]"
      ]
     },
     "execution_count": 4,
     "metadata": {},
     "output_type": "execute_result"
    }
   ],
   "source": [
    "Game"
   ]
  },
  {
   "cell_type": "code",
   "execution_count": 5,
   "id": "383c5830",
   "metadata": {},
   "outputs": [
    {
     "name": "stdout",
     "output_type": "stream",
     "text": [
      "<class 'pandas.core.frame.DataFrame'>\n",
      "RangeIndex: 5000 entries, 0 to 4999\n",
      "Data columns (total 3 columns):\n",
      " #   Column  Non-Null Count  Dtype  \n",
      "---  ------  --------------  -----  \n",
      " 0   userId  5000 non-null   int64  \n",
      " 1   game    5000 non-null   object \n",
      " 2   rating  5000 non-null   float64\n",
      "dtypes: float64(1), int64(1), object(1)\n",
      "memory usage: 117.3+ KB\n"
     ]
    }
   ],
   "source": [
    "Game.info()"
   ]
  },
  {
   "cell_type": "code",
   "execution_count": 6,
   "id": "7bc0d617",
   "metadata": {},
   "outputs": [
    {
     "data": {
      "text/plain": [
       "0       False\n",
       "1       False\n",
       "2       False\n",
       "3       False\n",
       "4       False\n",
       "        ...  \n",
       "4995    False\n",
       "4996    False\n",
       "4997    False\n",
       "4998    False\n",
       "4999    False\n",
       "Length: 5000, dtype: bool"
      ]
     },
     "execution_count": 6,
     "metadata": {},
     "output_type": "execute_result"
    }
   ],
   "source": [
    "#Checking duplicates\n",
    "duplicate = Game.duplicated()\n",
    "duplicate"
   ]
  },
  {
   "cell_type": "code",
   "execution_count": 7,
   "id": "6b244f76",
   "metadata": {},
   "outputs": [
    {
     "data": {
      "text/plain": [
       "0"
      ]
     },
     "execution_count": 7,
     "metadata": {},
     "output_type": "execute_result"
    }
   ],
   "source": [
    "sum(duplicate)"
   ]
  },
  {
   "cell_type": "markdown",
   "id": "eca14635",
   "metadata": {},
   "source": [
    "###### No Duplicates in the data"
   ]
  },
  {
   "cell_type": "code",
   "execution_count": 8,
   "id": "8310f62c",
   "metadata": {},
   "outputs": [
    {
     "name": "stdout",
     "output_type": "stream",
     "text": [
      "['userId', 'game', 'rating']\n"
     ]
    }
   ],
   "source": [
    "print(list(Game.columns.values))"
   ]
  },
  {
   "cell_type": "code",
   "execution_count": 9,
   "id": "9b2172dd",
   "metadata": {},
   "outputs": [
    {
     "data": {
      "text/plain": [
       "<AxesSubplot:>"
      ]
     },
     "execution_count": 9,
     "metadata": {},
     "output_type": "execute_result"
    },
    {
     "data": {
      "image/png": "[encoded data removed]",
      "text/plain": [
       "<Figure size 432x288 with 1 Axes>"
      ]
     },
     "metadata": {
      "needs_background": "light"
     },
     "output_type": "display_data"
    }
   ],
   "source": [
    "#Checking for Outlier\n",
    "sns.boxplot(data=Game)"
   ]
  },
  {
   "cell_type": "markdown",
   "id": "059a5e4e",
   "metadata": {},
   "source": [
    "###### There are no outliers in the data"
   ]
  },
  {
   "cell_type": "code",
   "execution_count": 10,
   "id": "970c56bf",
   "metadata": {},
   "outputs": [
    {
     "data": {
      "text/plain": [
       "userId    0\n",
       "game      0\n",
       "rating    0\n",
       "dtype: int64"
      ]
     },
     "execution_count": 10,
     "metadata": {},
     "output_type": "execute_result"
    }
   ],
   "source": [
    "#Check for count of NA's in each column\n",
    "Game.isna().sum()"
   ]
  },
  {
   "cell_type": "markdown",
   "id": "db554337",
   "metadata": {},
   "source": [
    "##### There are no na values in the data"
   ]
  },
  {
   "cell_type": "markdown",
   "id": "713b56e3",
   "metadata": {},
   "source": [
    "# Exploratory Data Analysis\n",
    "Measures of Central Tendency / First moment business decision"
   ]
  },
  {
   "cell_type": "code",
   "execution_count": 11,
   "id": "ef6ff33f",
   "metadata": {},
   "outputs": [
    {
     "data": {
      "text/plain": [
       "userId    3432.2822\n",
       "rating       3.5925\n",
       "dtype: float64"
      ]
     },
     "execution_count": 11,
     "metadata": {},
     "output_type": "execute_result"
    }
   ],
   "source": [
    "Game.mean()"
   ]
  },
  {
   "cell_type": "code",
   "execution_count": 12,
   "id": "14f6a231",
   "metadata": {},
   "outputs": [
    {
     "data": {
      "text/plain": [
       "userId    3395.0\n",
       "rating       4.0\n",
       "dtype: float64"
      ]
     },
     "execution_count": 12,
     "metadata": {},
     "output_type": "execute_result"
    }
   ],
   "source": [
    "Game.median()"
   ]
  },
  {
   "cell_type": "code",
   "execution_count": 13,
   "id": "f8975bbc",
   "metadata": {},
   "outputs": [
    {
     "data": {
      "text/html": [
       "<div>\n",
       "<style scoped>\n",
       "    .dataframe tbody tr th:only-of-type {\n",
       "        vertical-align: middle;\n",
       "    }\n",
       "\n",
       "    .dataframe tbody tr th {\n",
       "        vertical-align: top;\n",
       "    }\n",
       "\n",
       "    .dataframe thead th {\n",
       "        text-align: right;\n",
       "    }\n",
       "</style>\n",
       "<table border=\"1\" class=\"dataframe\">\n",
       "  <thead>\n",
       "    <tr style=\"text-align: right;\">\n",
       "      <th></th>\n",
       "      <th>userId</th>\n",
       "      <th>game</th>\n",
       "      <th>rating</th>\n",
       "    </tr>\n",
       "  </thead>\n",
       "  <tbody>\n",
       "    <tr>\n",
       "      <th>0</th>\n",
       "      <td>156</td>\n",
       "      <td>Madden NFL 07</td>\n",
       "      <td>4.0</td>\n",
       "    </tr>\n",
       "    <tr>\n",
       "      <th>1</th>\n",
       "      <td>903</td>\n",
       "      <td>NaN</td>\n",
       "      <td>NaN</td>\n",
       "    </tr>\n",
       "    <tr>\n",
       "      <th>2</th>\n",
       "      <td>982</td>\n",
       "      <td>NaN</td>\n",
       "      <td>NaN</td>\n",
       "    </tr>\n",
       "    <tr>\n",
       "      <th>3</th>\n",
       "      <td>1931</td>\n",
       "      <td>NaN</td>\n",
       "      <td>NaN</td>\n",
       "    </tr>\n",
       "    <tr>\n",
       "      <th>4</th>\n",
       "      <td>2191</td>\n",
       "      <td>NaN</td>\n",
       "      <td>NaN</td>\n",
       "    </tr>\n",
       "    <tr>\n",
       "      <th>5</th>\n",
       "      <td>3338</td>\n",
       "      <td>NaN</td>\n",
       "      <td>NaN</td>\n",
       "    </tr>\n",
       "    <tr>\n",
       "      <th>6</th>\n",
       "      <td>3513</td>\n",
       "      <td>NaN</td>\n",
       "      <td>NaN</td>\n",
       "    </tr>\n",
       "    <tr>\n",
       "      <th>7</th>\n",
       "      <td>4133</td>\n",
       "      <td>NaN</td>\n",
       "      <td>NaN</td>\n",
       "    </tr>\n",
       "  </tbody>\n",
       "</table>\n",
       "</div>"
      ],
      "text/plain": [
       "   userId           game  rating\n",
       "0     156  Madden NFL 07     4.0\n",
       "1     903            NaN     NaN\n",
       "2     982            NaN     NaN\n",
       "3    1931            NaN     NaN\n",
       "4    2191            NaN     NaN\n",
       "5    3338            NaN     NaN\n",
       "6    3513            NaN     NaN\n",
       "7    4133            NaN     NaN"
      ]
     },
     "execution_count": 13,
     "metadata": {},
     "output_type": "execute_result"
    }
   ],
   "source": [
    "Game.mode()"
   ]
  },
  {
   "cell_type": "markdown",
   "id": "4a329877",
   "metadata": {},
   "source": [
    "##### Measures of Dispersion / Second moment business decision"
   ]
  },
  {
   "cell_type": "code",
   "execution_count": 14,
   "id": "e0d7b245",
   "metadata": {},
   "outputs": [
    {
     "data": {
      "text/plain": [
       "userId    3.968067e+06\n",
       "rating    9.898917e-01\n",
       "dtype: float64"
      ]
     },
     "execution_count": 14,
     "metadata": {},
     "output_type": "execute_result"
    }
   ],
   "source": [
    "Game.var()"
   ]
  },
  {
   "cell_type": "code",
   "execution_count": 15,
   "id": "971b6051",
   "metadata": {},
   "outputs": [
    {
     "data": {
      "text/plain": [
       "userId    1992.000866\n",
       "rating       0.994933\n",
       "dtype: float64"
      ]
     },
     "execution_count": 15,
     "metadata": {},
     "output_type": "execute_result"
    }
   ],
   "source": [
    "Game.std()"
   ]
  },
  {
   "cell_type": "markdown",
   "id": "b6c828e3",
   "metadata": {},
   "source": [
    "##### Third moment business decision"
   ]
  },
  {
   "cell_type": "code",
   "execution_count": 16,
   "id": "c52267e0",
   "metadata": {},
   "outputs": [
    {
     "data": {
      "text/plain": [
       "userId    0.075282\n",
       "rating   -0.510682\n",
       "dtype: float64"
      ]
     },
     "execution_count": 16,
     "metadata": {},
     "output_type": "execute_result"
    }
   ],
   "source": [
    "Game.skew()"
   ]
  },
  {
   "cell_type": "markdown",
   "id": "6d8ff09a",
   "metadata": {},
   "source": [
    "##### Fourth moment business decision"
   ]
  },
  {
   "cell_type": "code",
   "execution_count": 17,
   "id": "fba0c63a",
   "metadata": {},
   "outputs": [],
   "source": [
    "from sklearn.feature_extraction.text import TfidfVectorizer "
   ]
  },
  {
   "cell_type": "markdown",
   "id": "25db68cc",
   "metadata": {},
   "source": [
    "###### term frequency inverse document frequncy is a numerical statistic that is intended to reflect how important a word is to document in a collecion or corpus"
   ]
  },
  {
   "cell_type": "code",
   "execution_count": 18,
   "id": "ea523dbe",
   "metadata": {},
   "outputs": [],
   "source": [
    "# Creating a Tfidf Vectorizer to remove all stop words\n",
    "tfidf = TfidfVectorizer(stop_words = \"english\")    # taking stop words from tfid vectorizer "
   ]
  },
  {
   "cell_type": "code",
   "execution_count": 19,
   "id": "0005d931",
   "metadata": {},
   "outputs": [
    {
     "data": {
      "text/plain": [
       "0"
      ]
     },
     "execution_count": 19,
     "metadata": {},
     "output_type": "execute_result"
    }
   ],
   "source": [
    "# Replacing the NaN values in overview column with empty string\n",
    "Game[\"game\"].isnull().sum()"
   ]
  },
  {
   "cell_type": "code",
   "execution_count": 20,
   "id": "5458b542",
   "metadata": {},
   "outputs": [],
   "source": [
    "# Preparing the Tfidf matrix by fitting and transforming\n",
    "tfidf_matrix = tfidf.fit_transform(Game.game)   #Transform a count matrix to a normalized tf or tf-idf representation"
   ]
  },
  {
   "cell_type": "code",
   "execution_count": 21,
   "id": "941fceb6",
   "metadata": {},
   "outputs": [
    {
     "data": {
      "text/plain": [
       "(5000, 3068)"
      ]
     },
     "execution_count": 21,
     "metadata": {},
     "output_type": "execute_result"
    }
   ],
   "source": [
    "tfidf_matrix.shape #5000 3068"
   ]
  },
  {
   "cell_type": "code",
   "execution_count": 22,
   "id": "e354bdc6",
   "metadata": {},
   "outputs": [],
   "source": [
    "# From the above matrix we need to find the similarity score.\n",
    "# There are several metrics for this such as the euclidean, \n",
    "# the Pearson and the cosine similarity scores"
   ]
  },
  {
   "cell_type": "code",
   "execution_count": 23,
   "id": "e158a183",
   "metadata": {},
   "outputs": [],
   "source": [
    "# A numeric quantity to represent the similarity between 2 movies \n",
    "# Cosine similarity - metric is independent of magnitude and easy to calculate \n",
    "# cosine(x,y)= (x.y⊺)/(||x||.||y||)"
   ]
  },
  {
   "cell_type": "code",
   "execution_count": 24,
   "id": "e85f0f8b",
   "metadata": {},
   "outputs": [],
   "source": [
    "# calculating the dot product using sklearn's linear_kernel()\n",
    "from sklearn.metrics.pairwise import linear_kernel"
   ]
  },
  {
   "cell_type": "code",
   "execution_count": 25,
   "id": "c61bd3cb",
   "metadata": {},
   "outputs": [],
   "source": [
    "# Computing the cosine similarity on Tfidf matrix\n",
    "cosine_sim_matrix = linear_kernel(tfidf_matrix, tfidf_matrix)"
   ]
  },
  {
   "cell_type": "code",
   "execution_count": 26,
   "id": "b3e2031e",
   "metadata": {},
   "outputs": [],
   "source": [
    "# creating a mapping of anime name to index number \n",
    "game_index = pd.Series(Game.index, index = Game['game']).drop_duplicates()"
   ]
  },
  {
   "cell_type": "code",
   "execution_count": 27,
   "id": "20e4b3ac",
   "metadata": {},
   "outputs": [
    {
     "data": {
      "text/plain": [
       "game\n",
       "Grand Theft Auto IV      2\n",
       "Grand Theft Auto IV      4\n",
       "Grand Theft Auto IV    474\n",
       "dtype: int64"
      ]
     },
     "execution_count": 27,
     "metadata": {},
     "output_type": "execute_result"
    }
   ],
   "source": [
    "Game_id = game_index['Grand Theft Auto IV']\n",
    "Game_id"
   ]
  },
  {
   "cell_type": "code",
   "execution_count": 28,
   "id": "c5ab7fa8",
   "metadata": {},
   "outputs": [],
   "source": [
    "def get_recommendations(game, topN):    \n",
    "    # topN = 10\n",
    "    # Getting the movie index using its title \n",
    "    Game_id = game_index[game]\n",
    "    \n",
    "    # Getting the pair wise similarity score for all the anime's with that \n",
    "    # anime\n",
    "    cosine_scores = list(enumerate(cosine_sim_matrix[Game_id]))\n",
    "    \n",
    "    # Sorting the cosine_similarity scores based on scores \n",
    "    cosine_scores = sorted(cosine_scores, key=lambda x:x[1], reverse = True)\n",
    "    \n",
    "    # Get the scores of top N most similar movies \n",
    "    cosine_scores_N = cosine_scores[0: topN+1]\n",
    "    \n",
    "    # Getting the movie index \n",
    "    game_idx  =  [i[0] for i in cosine_scores_N]\n",
    "    game_scores =  [i[1] for i in cosine_scores_N]\n",
    "    \n",
    "    # Similar movies and scores\n",
    "    game_similar_show = pd.DataFrame(columns=[\"game\", \"Score\"])\n",
    "    game_similar_show[\"game\"] = Game.loc[game_idx, \"game\"]\n",
    "    game_similar_show[\"Score\"] = game_scores\n",
    "    game_similar_show.reset_index(inplace = True)  \n",
    "    print (game_similar_show)\n",
    "    # The End"
   ]
  },
  {
   "cell_type": "code",
   "execution_count": 29,
   "id": "f962c38b",
   "metadata": {},
   "outputs": [
    {
     "data": {
      "text/plain": [
       "game\n",
       "SoulCalibur       3\n",
       "SoulCalibur    3925\n",
       "dtype: int64"
      ]
     },
     "execution_count": 29,
     "metadata": {},
     "output_type": "execute_result"
    }
   ],
   "source": [
    "# Enter your anime and number of anime's to be recommended\n",
    "game_index[\"SoulCalibur\"]"
   ]
  },
  {
   "cell_type": "code",
   "execution_count": 30,
   "id": "e3efd02a",
   "metadata": {},
   "outputs": [
    {
     "data": {
      "text/plain": [
       "game\n",
       "Grand Theft Auto IV      2\n",
       "Grand Theft Auto IV      4\n",
       "Grand Theft Auto IV    474\n",
       "dtype: int64"
      ]
     },
     "execution_count": 30,
     "metadata": {},
     "output_type": "execute_result"
    }
   ],
   "source": [
    "game_index['Grand Theft Auto IV']"
   ]
  },
  {
   "cell_type": "code",
   "execution_count": 32,
   "id": "3a9f5210",
   "metadata": {},
   "outputs": [
    {
     "name": "stdout",
     "output_type": "stream",
     "text": [
      "    index                                  game  Score\n",
      "0    4997                          The Last Guy    1.0\n",
      "1       0  The Legend of Zelda: Ocarina of Time    0.0\n",
      "2       1              Tony Hawk's Pro Skater 2    0.0\n",
      "3       2                   Grand Theft Auto IV    0.0\n",
      "4       3                           SoulCalibur    0.0\n",
      "5       4                   Grand Theft Auto IV    0.0\n",
      "6       5                    Super Mario Galaxy    0.0\n",
      "7       6                  Super Mario Galaxy 2    0.0\n",
      "8       7                    Grand Theft Auto V    0.0\n",
      "9       8                    Grand Theft Auto V    0.0\n",
      "10      9                    Grand Theft Auto V    0.0\n"
     ]
    }
   ],
   "source": [
    "get_recommendations(\"The Last Guy\", topN = 10)"
   ]
  },
  {
   "cell_type": "code",
   "execution_count": null,
   "id": "6a23dbc4",
   "metadata": {},
   "outputs": [],
   "source": []
  },
  {
   "cell_type": "code",
   "execution_count": null,
   "id": "e8948993",
   "metadata": {},
   "outputs": [],
   "source": []
  },
  {
   "cell_type": "code",
   "execution_count": null,
   "id": "aec85d8a",
   "metadata": {},
   "outputs": [],
   "source": []
  },
  {
   "cell_type": "code",
   "execution_count": null,
   "id": "d58e1b0e",
   "metadata": {},
   "outputs": [],
   "source": []
  }
 ],
 "metadata": {
  "kernelspec": {
   "display_name": "Python 3 (ipykernel)",
   "language": "python",
   "name": "python3"
  },
  "language_info": {
   "codemirror_mode": {
    "name": "ipython",
    "version": 3
   },
   "file_extension": ".py",
   "mimetype": "text/x-python",
   "name": "python",
   "nbconvert_exporter": "python",
   "pygments_lexer": "ipython3",
   "version": "3.9.12"
  }
 },
 "nbformat": 4,
 "nbformat_minor": 5
}
